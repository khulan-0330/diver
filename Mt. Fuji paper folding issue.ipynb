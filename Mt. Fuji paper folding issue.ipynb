{
  "nbformat": 4,
  "nbformat_minor": 0,
  "metadata": {
    "colab": {
      "provenance": [],
      "authorship_tag": "ABX9TyPUyLKi+W3ehTSJcnSFAn0P",
      "include_colab_link": true
    },
    "kernelspec": {
      "name": "python3",
      "display_name": "Python 3"
    },
    "language_info": {
      "name": "python"
    }
  },
  "cells": [
    {
      "cell_type": "markdown",
      "metadata": {
        "id": "view-in-github",
        "colab_type": "text"
      },
      "source": [
        "<a href=\"https://colab.research.google.com/github/khulan-0330/diver/blob/main/Mt.%20Fuji%20paper%20folding%20issue.ipynb\" target=\"_parent\"><img src=\"https://colab.research.google.com/assets/colab-badge.svg\" alt=\"Open In Colab\"/></a>"
      ]
    },
    {
      "cell_type": "code",
      "execution_count": null,
      "metadata": {
        "id": "wosMKJ_HhSbL"
      },
      "outputs": [],
      "source": []
    },
    {
      "cell_type": "markdown",
      "source": [
        "[Problem 1] How many times to fold paper to exceed the height of Mt.Fuji?"
      ],
      "metadata": {
        "id": "0-wZAZKtzZeu"
      }
    },
    {
      "cell_type": "code",
      "source": [
        "thickness = 0.00008 #meters assume paper \n",
        "height = 3776 # meters\n",
        "folds = 0\n",
        "while h>0:\n",
        "    thickness = thickness * 2\n",
        "    folded_number = folded_number + 1\n",
        "print(folded_number)"
      ],
      "metadata": {
        "colab": {
          "base_uri": "https://localhost:8080/"
        },
        "id": "ykqsQLzK5niM",
        "outputId": "33696c6b-1858-48ff-bbb2-0fdf2042d3c2"
      },
      "execution_count": 15,
      "outputs": [
        {
          "output_type": "stream",
          "name": "stdout",
          "text": [
            "26\n"
          ]
        }
      ]
    },
    {
      "cell_type": "markdown",
      "source": [
        "[Problem 2] Function corresponding to arbitrary thickness"
      ],
      "metadata": {
        "id": "I70Gw7Kh6Um_"
      }
    },
    {
      "cell_type": "code",
      "source": [
        "def min_fold(height=3776, thickness = 0.00008):\n",
        "  folds = 0\n",
        "  while(1):\n",
        "    if (thickness <= height) :\n",
        "      thickness = thickness * 2\n",
        "      folds = folds + 1\n",
        "    else :\n",
        "      break \n",
        "    \n",
        "  return folds\n",
        "number_min_fold = min_fold(4.0175*10**16)\n",
        "print(\"{} time fold a piece of paper to reach the nearest non-sun star\".format(number_min_fold))\n",
        "     "
      ],
      "metadata": {
        "colab": {
          "base_uri": "https://localhost:8080/"
        },
        "id": "k0yx9gqf6bGa",
        "outputId": "3cb55dae-e134-4ed3-e1ff-45e055ba4d4d"
      },
      "execution_count": 29,
      "outputs": [
        {
          "output_type": "stream",
          "name": "stdout",
          "text": [
            "69 time fold a piece of paper to reach the nearest non-sun star\n"
          ]
        }
      ]
    },
    {
      "cell_type": "markdown",
      "source": [
        "[Problem 3] Required paper length"
      ],
      "metadata": {
        "id": "4bWc9o_q_JJI"
      }
    },
    {
      "cell_type": "code",
      "source": [
        "from os import pardir\n",
        "from re import L\n",
        "def paper_folding_length(m):\n",
        "  def Fuji_paper_folding(m): \n",
        "      folds = 0\n",
        "      thickness=0.00008\n",
        "      while(1):\n",
        "        if (thickness <= height) :\n",
        "          thickness = thickness * 2\n",
        "          folds = folds + 1\n",
        "        else :\n",
        "          break \n",
        "      return folds\n",
        "  n= Fuji_paper_folding(m)\n",
        "  l = (3.14156*thickness/6)*(2**n+4)*(2**n-1)\n",
        "  return l\n",
        "\n",
        "Fuji_m= 3776\n",
        "Moon_km= 384400\n",
        "non_sun_star = 4.0175*10**16\n",
        "fuji_m=paper_folding_length(Fuji_m)\n",
        "moon_km=paper_folding_length(Moon_km)\n",
        "Non_star=paper_folding_length(non_sun_star)\n",
        "\n",
        "\n",
        "\n",
        "\n",
        "\n",
        "\n",
        "\n"
      ],
      "metadata": {
        "id": "a3P3Pmv__ML6"
      },
      "execution_count": 33,
      "outputs": []
    },
    {
      "cell_type": "code",
      "source": [],
      "metadata": {
        "id": "OtlYbdaxzdsj"
      },
      "execution_count": null,
      "outputs": []
    }
  ]
}