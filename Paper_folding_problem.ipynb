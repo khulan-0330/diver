{
  "nbformat": 4,
  "nbformat_minor": 0,
  "metadata": {
    "colab": {
      "provenance": [],
      "authorship_tag": "ABX9TyPfJ/DUGOnHMjmMg3FpUkNd",
      "include_colab_link": true
    },
    "kernelspec": {
      "name": "python3",
      "display_name": "Python 3"
    },
    "language_info": {
      "name": "python"
    }
  },
  "cells": [
    {
      "cell_type": "markdown",
      "metadata": {
        "id": "view-in-github",
        "colab_type": "text"
      },
      "source": [
        "<a href=\"https://colab.research.google.com/github/khulan-0330/diver/blob/main/Paper_folding_problem.ipynb\" target=\"_parent\"><img src=\"https://colab.research.google.com/assets/colab-badge.svg\" alt=\"Open In Colab\"/></a>"
      ]
    },
    {
      "cell_type": "markdown",
      "source": [
        "Problem 1] Implementation using exponentiation arithmetic operators"
      ],
      "metadata": {
        "id": "J4kNv2zntKSI"
      }
    },
    {
      "cell_type": "code",
      "execution_count": null,
      "metadata": {
        "colab": {
          "base_uri": "https://localhost:8080/"
        },
        "id": "2bgg-fbxtDGY",
        "outputId": "6e427667-4c71-424d-bd2f-8f50398a95c4"
      },
      "outputs": [
        {
          "output_type": "stream",
          "name": "stdout",
          "text": [
            "Thickness: 703687441.77664 meters\n"
          ]
        }
      ],
      "source": [
        "THICKNESS = 0.00008\n",
        "\n",
        "folded_thickness = THICKNESS * 2**43\n",
        "\n",
        "print(\"Thickness: {} meters\".format(folded_thickness))"
      ]
    },
    {
      "cell_type": "markdown",
      "source": [
        "[Problem 2] Unit Conversion\n"
      ],
      "metadata": {
        "id": "puHB-TwPt8XO"
      }
    },
    {
      "cell_type": "code",
      "source": [
        "print(\"Thickness: {: .2f} kilometers\".format(folded_thickness / 1000))"
      ],
      "metadata": {
        "colab": {
          "base_uri": "https://localhost:8080/"
        },
        "id": "omZrP5PEuG-y",
        "outputId": "8413318e-4c05-4092-d0e2-b94f99652a10"
      },
      "execution_count": null,
      "outputs": [
        {
          "output_type": "stream",
          "name": "stdout",
          "text": [
            "Thickness:  703687.44 kilometers\n"
          ]
        }
      ]
    },
    {
      "cell_type": "markdown",
      "source": [
        "[Problem 3] Create using a for statement"
      ],
      "metadata": {
        "id": "yXZDcIyquPF4"
      }
    },
    {
      "cell_type": "code",
      "source": [
        "THICKNESS = 0.00008\n",
        "\n",
        "folded_thickness = THICKNESS * 2**43\n",
        "\n",
        "print(\"Thickness: {} meters\".format(folded_thickness/1000))"
      ],
      "metadata": {
        "colab": {
          "base_uri": "https://localhost:8080/"
        },
        "id": "Kmn4itAAuRe7",
        "outputId": "5e78445d-bf05-427a-bd53-9391c4be2b83"
      },
      "execution_count": null,
      "outputs": [
        {
          "output_type": "stream",
          "name": "stdout",
          "text": [
            "Thickness: 703687.44177664 meters\n"
          ]
        }
      ]
    },
    {
      "cell_type": "markdown",
      "source": [
        "[Problem 4] Comparison of calculation time"
      ],
      "metadata": {
        "id": "oyHIdkYQuwiT"
      }
    },
    {
      "cell_type": "code",
      "source": [
        "import time\n",
        "start = time.time()\n",
        "THICKNESS = 0.00008\n",
        "folded_thickness = THICKNESS * 2**43\n",
        "print(\"Thickness: {} meters\".format(folded_thickness/1000))\n",
        "elapsed_time = time.time() - start\n",
        "print(\"time : {}[s]\".format(elapsed_time))"
      ],
      "metadata": {
        "colab": {
          "base_uri": "https://localhost:8080/"
        },
        "id": "hMV48sX-uyyh",
        "outputId": "5b8e5569-6c1c-4ef3-e628-3cb8c4b28f58"
      },
      "execution_count": null,
      "outputs": [
        {
          "output_type": "stream",
          "name": "stdout",
          "text": [
            "Thickness: 703687.44177664 meters\n",
            "time : 0.0005393028259277344[s]\n"
          ]
        }
      ]
    },
    {
      "cell_type": "markdown",
      "source": [
        "[Problem 5] Saving to a list"
      ],
      "metadata": {
        "id": "oIhvUf5Rvb42"
      }
    },
    {
      "cell_type": "code",
      "source": [
        "a=[]\n",
        "for i in range(44):\n",
        " a.append(THICKNESS * 2**i)"
      ],
      "metadata": {
        "id": "TO46AubF6Y5-"
      },
      "execution_count": null,
      "outputs": []
    },
    {
      "cell_type": "markdown",
      "source": [
        "[Problem 6] Displaying a line graph"
      ],
      "metadata": {
        "id": "3a2ObAlvvxmo"
      }
    },
    {
      "cell_type": "code",
      "source": [
        "import matplotlib.pyplot as plt\n",
        "%matplotlib inline\n",
        "# Display the graph. Title and axis label name.\n",
        "plt.title(\"thickness of folded paper\")\n",
        "plt.xlabel(\"number of folds\")\n",
        "plt.ylabel(\"thickness [m]\")\n",
        "plt.plot(a)  # Enter the variable name of the list in \"List name\"\n",
        "plt.show()"
      ],
      "metadata": {
        "colab": {
          "base_uri": "https://localhost:8080/",
          "height": 295
        },
        "id": "hIPL9cJhv56z",
        "outputId": "fa0d5ca8-70e1-401a-ef8f-e6adeae19652"
      },
      "execution_count": null,
      "outputs": [
        {
          "output_type": "display_data",
          "data": {
            "text/plain": [
              "<Figure size 432x288 with 1 Axes>"
            ],
            "image/png": "[encoded data removed]"
          },
          "metadata": {
            "needs_background": "light"
          }
        }
      ]
    },
    {
      "cell_type": "markdown",
      "source": [
        "[Problem 7] Customizing graphs"
      ],
      "metadata": {
        "id": "-68MJkFSwUIh"
      }
    },
    {
      "cell_type": "code",
      "source": [
        "# Display a red line graph.\n",
        "plt.title(\"thickness of folded paper\")\n",
        "plt.xlabel(\"number of folds\")\n",
        "plt.ylabel(\"thickness [m]\")\n",
        "plt.plot(a, color='red')\n",
        "plt.show()"
      ],
      "metadata": {
        "colab": {
          "base_uri": "https://localhost:8080/",
          "height": 295
        },
        "id": "NtHWpQIHwMIA",
        "outputId": "f687f8cb-d531-4ecc-ee6e-d5c0528cba11"
      },
      "execution_count": null,
      "outputs": [
        {
          "output_type": "display_data",
          "data": {
            "text/plain": [
              "<Figure size 432x288 with 1 Axes>"
            ],
            "image/png": "[encoded data removed]"
          },
          "metadata": {
            "needs_background": "light"
          }
        }
      ]
    },
    {
      "cell_type": "code",
      "source": [
        "plt.title(\"thickness of folded paper\")\n",
        "plt.xlabel(\"number of folds\")\n",
        "plt.ylabel(\"thickness [m]\")\n",
        "plt.tick_params(labelsize=20)\n",
        "plt.plot(a,linewidth=10)\n",
        "plt.show()"
      ],
      "metadata": {
        "colab": {
          "base_uri": "https://localhost:8080/",
          "height": 304
        },
        "id": "xVFf1kha7GNM",
        "outputId": "85157d84-64ce-486e-87d2-671f497ef49f"
      },
      "execution_count": null,
      "outputs": [
        {
          "output_type": "display_data",
          "data": {
            "text/plain": [
              "<Figure size 432x288 with 1 Axes>"
            ],
            "image/png": "[encoded data removed]"
          },
          "metadata": {
            "needs_background": "light"
          }
        }
      ]
    },
    {
      "cell_type": "code",
      "source": [
        "plt.title(\"thickness of folded paper\")\n",
        "plt.xlabel(\"number of folds\")\n",
        "plt.ylabel(\"thickness [m]\")\n",
        "plt.tick_params(labelsize=20)\n",
        "plt.plot(a,linewidth=10,linestyle='--')\n",
        "plt.show()"
      ],
      "metadata": {
        "colab": {
          "base_uri": "https://localhost:8080/",
          "height": 304
        },
        "id": "WNx8AcM97x2A",
        "outputId": "b3a1e9a2-6d5d-4941-abc5-c5722aaee7ce"
      },
      "execution_count": null,
      "outputs": [
        {
          "output_type": "display_data",
          "data": {
            "text/plain": [
              "<Figure size 432x288 with 1 Axes>"
            ],
            "image/png": "[encoded data removed]"
          },
          "metadata": {
            "needs_background": "light"
          }
        }
      ]
    },
    {
      "cell_type": "code",
      "source": [],
      "metadata": {
        "id": "ddLYmM-e788g"
      },
      "execution_count": null,
      "outputs": []
    }
  ]
}